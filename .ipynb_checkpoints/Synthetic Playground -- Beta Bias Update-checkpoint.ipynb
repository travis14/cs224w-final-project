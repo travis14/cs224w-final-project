{
 "cells": [
  {
   "cell_type": "code",
   "execution_count": 1,
   "metadata": {},
   "outputs": [],
   "source": [
    "import numpy as np\n",
    "from ratings_graph import RatingsGraph\n",
    "import random\n",
    "import matplotlib.pyplot as plt\n",
    "#from true_ratings_prediction import debias_ratings_baseline"
   ]
  },
  {
   "cell_type": "markdown",
   "metadata": {},
   "source": [
    "# Generate Biased "
   ]
  },
  {
   "cell_type": "code",
   "execution_count": 2,
   "metadata": {},
   "outputs": [],
   "source": [
    "import numpy as np\n",
    "\n",
    "def generate_biased_dataset(num_users, num_entities, gen_user_biases, gen_entity_features): #gen_user_biases\n",
    "    # The true ratings of the entities\n",
    "    ground_truth_ratings = np.random.random(num_entities)\n",
    "    \n",
    "    # The number of features that define a movie\n",
    "    num_features = 1\n",
    "    \n",
    "    # Each user has a bias value along a certain feature dimension\n",
    "    user_biases = np.zeros((num_users, num_features))\n",
    "    for user_idx in range(num_users):\n",
    "        for feature_idx in range(num_features):\n",
    "            '''\n",
    "            if random.randint(0, 1):\n",
    "                user_biases[user_idx][feature_idx] = 0.1\n",
    "            else:\n",
    "                user_biases[user_idx][feature_idx] = -0.5\n",
    "            '''\n",
    "            user_biases[user_idx][feature_idx] = gen_beta_dist_bias()\n",
    "    \n",
    "    # Setting the features for each entity along each feature dimension\n",
    "    entity_features = np.zeros((num_entities, num_features))\n",
    "    for entity_idx in range(num_entities):\n",
    "        # Currently saying the maximum magnitude of the entity features is 1.0 / num_features\n",
    "        #entity_features[entity_idx, :] = np.random.uniform(0, 1.0/num_features, num_features)\n",
    "        entity_features[entity_idx, :] = gen_entity_features(num_features)\n",
    "    \n",
    "    # TODO: Think about how to intelligently normalize these features\n",
    "    '''\n",
    "    #linfnorm = np.linalg.norm(entity_features, axis=1, ord=2)\n",
    "    #entity_features = entity_features.astype(np.float) / linfnorm[:,None]    \n",
    "    '''\n",
    "    \n",
    "    # Setting the user_item ratings and the user_item adjacency matrix\n",
    "    p_rate = 0.2\n",
    "    user_entity_ratings = np.zeros((num_users, num_entities))\n",
    "    user_entity_adj_matrix = np.zeros((num_users, num_entities))\n",
    "    for user_idx in range(num_users):\n",
    "        for entity_idx in range(num_entities):\n",
    "            if np.random.random() < p_rate:\n",
    "                user_entity_ratings[user_idx][entity_idx] = ground_truth_ratings[entity_idx] + \\\n",
    "                                                    (np.dot(entity_features[entity_idx, :], user_biases[user_idx,:]))\n",
    "                user_entity_ratings[user_idx][entity_idx] = max(min(user_entity_ratings[user_idx][entity_idx], 1), 0)\n",
    "                \n",
    "                user_entity_adj_matrix[user_idx][entity_idx] = 1\n",
    "\n",
    "    return user_entity_ratings, ground_truth_ratings, user_entity_adj_matrix, entity_features, user_biases"
   ]
  },
  {
   "cell_type": "code",
   "execution_count": 3,
   "metadata": {},
   "outputs": [],
   "source": [
    "import numpy as np\n",
    "import pandas as pd\n",
    "\n",
    "EPSILON = 0.000001\n",
    "\n",
    "def single_iteration(ratings_graph, biases, true_ratings, alpha, beta):\n",
    "    # Remove nans\n",
    "    biases = np.nan_to_num(biases)\n",
    "    true_ratings = np.nan_to_num(true_ratings)\n",
    "    \n",
    "    # Update Ratings\n",
    "    graph_shape = ratings_graph.get_graph_shape()\n",
    "    indiv_true_ratings = np.maximum(np.zeros(graph_shape), np.minimum(np.ones(graph_shape),\n",
    "                                        ratings_graph.get_user_entity_ratings() - alpha * biases[:, None]))\n",
    "    rating_denoms = ratings_graph.get_entity_rating_counts()\n",
    "    next_true_ratings = np.sum(ratings_graph.get_user_entity_adj_matrix() * indiv_true_ratings, axis=0) / rating_denoms\n",
    "\n",
    "    # Update Biases\n",
    "    indiv_biases = ratings_graph.get_user_entity_ratings() - next_true_ratings\n",
    "    bias_denoms = ratings_graph.get_user_rating_counts()\n",
    "    next_biases = (1-beta)*biases + beta*(np.sum(ratings_graph.get_user_entity_adj_matrix() * indiv_biases, axis=1) / bias_denoms)\n",
    "    \n",
    "    if (np.isnan(biases).any() or np.isnan(true_ratings).any()):\n",
    "        import pdb; pdb.set_trace()\n",
    "    \n",
    "    converged = True\n",
    "    if ((true_ratings is not None) and np.any(np.abs(true_ratings - next_true_ratings) > EPSILON)) or \\\n",
    "        np.any(np.abs(biases - next_biases) > EPSILON):\n",
    "        converged = False\n",
    "\n",
    "    return converged, next_true_ratings, next_biases\n",
    "\n",
    "def single_iteration_user_ent(ratings_graph, biases, true_ratings, alpha, beta):\n",
    "    # Update Rating\n",
    "    graph_shape = ratings_graph.get_graph_shape()\n",
    "    indiv_true_ratings = np.maximum(np.zeros(graph_shape), np.minimum(np.ones(graph_shape),\n",
    "                                        ratings_graph.get_user_entity_ratings() - alpha * biases))\n",
    "    rating_denoms = ratings_graph.get_entity_rating_counts()\n",
    "    next_true_ratings = np.sum(ratings_graph.get_user_entity_adj_matrix() * indiv_true_ratings, axis=0) / rating_denoms\n",
    "\n",
    "    # Update Biases\n",
    "    indiv_biases = (ratings_graph.get_user_entity_adj_matrix()*(ratings_graph.get_user_entity_ratings() - next_true_ratings)).dot(ratings_graph.get_entity_sim())\n",
    "    bias_denoms = (ratings_graph.get_user_entity_adj_matrix()).dot(ratings_graph.get_entity_sim())\n",
    "    next_biases = (1-beta)*biases + beta*(indiv_biases) / bias_denoms\n",
    "    \n",
    "    converged = True\n",
    "    if ((true_ratings is not None) and np.any(np.abs(true_ratings - next_true_ratings) > EPSILON)) or \\\n",
    "        np.any(np.abs(biases - next_biases) > EPSILON):\n",
    "        converged = False\n",
    "\n",
    "    return converged, next_true_ratings, next_biases\n",
    "\n",
    "\n",
    "def mishra_prediction(ratings_graph, initial_alpha=0.99, \\\n",
    "                                     decay_rate=1.00, \\\n",
    "                                     max_iters = 200000, \\\n",
    "                                     beta = 0.1, \\\n",
    "                                     user_entity_specific=False):\n",
    "    np.random.seed(10)\n",
    "    ground_truth_ratings = ratings_graph.get_ground_truth_ratings()\n",
    "    true_ratings = [np.random.uniform((ratings_graph.num_entities,))]\n",
    "    if not user_entity_specific:\n",
    "        biases = [np.random.uniform(low = -1, high = 1, size = (ratings_graph.num_users,))]\n",
    "    else:\n",
    "        biases = [np.random.uniform(low = -1, high = 1, size = (ratings_graph.num_users, ratings_graph.num_entities))]\n",
    "    errors = []\n",
    "\n",
    "    converged = False\n",
    "    num_iters = 0\n",
    "    alpha = initial_alpha\n",
    "    while not converged and num_iters < max_iters:\n",
    "        true_rate_or_none = None if not true_ratings else true_ratings[-1]\n",
    "        if not user_entity_specific:\n",
    "            iter_out = single_iteration(ratings_graph, biases[-1], true_rate_or_none, alpha, beta)\n",
    "        else:\n",
    "            iter_out = single_iteration_user_ent(ratings_graph, biases[-1], true_rate_or_none, alpha, beta)\n",
    "\n",
    "        converged, next_true_ratings, next_biases = iter_out\n",
    "        true_ratings.append(next_true_ratings)\n",
    "        biases.append(next_biases)\n",
    "        if ground_truth_ratings is not None:\n",
    "            errors.append(np.sqrt(np.mean((next_true_ratings - ground_truth_ratings)**2)))\n",
    "        num_iters += 1\n",
    "        alpha = alpha/decay_rate\n",
    "\n",
    "    return biases, true_ratings, errors\n",
    "def mean_prediction(ratings_graph):\n",
    "    user_entity_ratings = ratings_graph.get_user_entity_ratings()\n",
    "    user_entity_adj_matrix = ratings_graph.get_user_entity_adj_matrix()\n",
    "    user_entity_adj_matrix_na = user_entity_adj_matrix.copy()\n",
    "    user_entity_adj_matrix_na[user_entity_adj_matrix==0]=np.nan\n",
    "\n",
    "    mean_pred = np.nanmean(user_entity_ratings*(user_entity_adj_matrix_na), axis=0)\n",
    "    return mean_pred\n",
    "                  \n",
    "def median_prediction(ratings_graph):\n",
    "    user_entity_ratings = ratings_graph.get_user_entity_ratings()\n",
    "    user_entity_adj_matrix = ratings_graph.get_user_entity_adj_matrix()\n",
    "    user_entity_adj_matrix_na = user_entity_adj_matrix.copy()\n",
    "    user_entity_adj_matrix_na[user_entity_adj_matrix==0]=np.nan\n",
    "    \n",
    "    median_pred = np.nanmedian(user_entity_ratings*(user_entity_adj_matrix_na), axis=0)\n",
    "    return median_pred\n",
    "\n",
    "def get_pred_error(pred, ratings_graph):\n",
    "    error = np.sqrt(np.mean((pred - ratings_graph.get_ground_truth_ratings())**2))\n",
    "    return error"
   ]
  },
  {
   "cell_type": "code",
   "execution_count": 4,
   "metadata": {},
   "outputs": [],
   "source": [
    "gen_constant_entity_features = lambda num_features: np.ones(num_features)\n",
    "gen_random_entity_features = lambda num_features: np.random.uniform(0, 1.0/num_features, num_features)\n",
    "gen_beta_dist_bias = lambda: np.random.beta(0.5, 0.5) - 0.5\n",
    "gen_polarized_dist_bias = lambda: 0.5 if random.randint(0, 1) else -0.5\n",
    "\n",
    "user_entity_ratings, ground_truth_ratings, user_entity_adj_matrix, entity_features, user_biases = \\\n",
    "    generate_biased_dataset(100, 20, gen_beta_dist_bias, gen_constant_entity_features)\n",
    "ratings_graph = RatingsGraph(user_entity_ratings, user_entity_adj_matrix, ground_truth_ratings, entity_features)"
   ]
  },
  {
   "cell_type": "code",
   "execution_count": 5,
   "metadata": {},
   "outputs": [
    {
     "name": "stderr",
     "output_type": "stream",
     "text": [
      "/Users/travischen/anaconda3/lib/python3.6/site-packages/ipykernel_launcher.py:21: RuntimeWarning: invalid value encountered in true_divide\n"
     ]
    },
    {
     "name": "stdout",
     "output_type": "stream",
     "text": [
      "Mean error:  0.09055809752512324\n",
      "Median error:  0.15279304719459316\n",
      "Mishra error:  0.0769089930359802\n"
     ]
    },
    {
     "name": "stderr",
     "output_type": "stream",
     "text": [
      "/Users/travischen/anaconda3/lib/python3.6/site-packages/ipykernel_launcher.py:27: RuntimeWarning: invalid value encountered in greater\n"
     ]
    }
   ],
   "source": [
    "mean_pred = mean_prediction(ratings_graph)\n",
    "median_pred = median_prediction(ratings_graph)\n",
    "biases, true_ratings, errors = mishra_prediction(ratings_graph)\n",
    "mishra_pred = true_ratings[-1]\n",
    "#print (mean_pred)\n",
    "#print (median_pred)\n",
    "#print (mishra_pred)\n",
    "mean_pred_error = get_pred_error(mean_pred, ratings_graph)\n",
    "median_pred_error = get_pred_error(median_pred, ratings_graph)\n",
    "print ('Mean error: ', mean_pred_error)\n",
    "print ('Median error: ', median_pred_error)\n",
    "print ('Mishra error: ', get_pred_error(mishra_pred, ratings_graph))"
   ]
  },
  {
   "cell_type": "code",
   "execution_count": 6,
   "metadata": {},
   "outputs": [
    {
     "data": {
      "image/png": "[encoded data removed]",
      "text/plain": [
       "<matplotlib.figure.Figure at 0x1101ab8d0>"
      ]
     },
     "metadata": {},
     "output_type": "display_data"
    },
    {
     "name": "stdout",
     "output_type": "stream",
     "text": [
      "0.09055809752512324\n",
      "0.15279304719459316\n"
     ]
    }
   ],
   "source": [
    "plt.plot(errors, color = 'b', label = 'Iterative Bias Update Algorithm')\n",
    "plt.axhline(mean_pred_error, color='r', linestyle='--', label='Mean')\n",
    "plt.axhline(median_pred_error, color='g', linestyle='--', label='Median')\n",
    "plt.legend()\n",
    "plt.xlabel('MSE')\n",
    "plt.xlabel('Iteration Number')\n",
    "plt.show()\n",
    "\n",
    "print (mean_pred_error)\n",
    "print (median_pred_error)"
   ]
  },
  {
   "cell_type": "code",
   "execution_count": null,
   "metadata": {},
   "outputs": [],
   "source": []
  }
 ],
 "metadata": {
  "kernelspec": {
   "display_name": "Python 3",
   "language": "python",
   "name": "python3"
  },
  "language_info": {
   "codemirror_mode": {
    "name": "ipython",
    "version": 3
   },
   "file_extension": ".py",
   "mimetype": "text/x-python",
   "name": "python",
   "nbconvert_exporter": "python",
   "pygments_lexer": "ipython3",
   "version": "3.6.4"
  }
 },
 "nbformat": 4,
 "nbformat_minor": 2
}
