{
 "cells": [
  {
   "cell_type": "code",
   "execution_count": 1,
   "metadata": {},
   "outputs": [],
   "source": [
    "import pandas as pd\n",
    "import numpy as np\n",
    "import collections\n",
    "import copy\n",
    "import sklearn.metrics.pairwise as pairwise"
   ]
  },
  {
   "cell_type": "code",
   "execution_count": 2,
   "metadata": {},
   "outputs": [],
   "source": [
    "\n",
    "NUM_TAGS_USED = 100\n",
    "\n",
    "tagDictionary = {}\n",
    "idCounter = 0\n",
    "\n",
    "data = pd.read_table('data/tags.dat', delimiter='::', engine='python')\n",
    "data = data.drop(columns=['timestamp'])\n",
    "data['tag'] = data['tag'].astype(str).str.lower().str.strip()\n",
    "tags = sorted(data['tag'].unique())\n",
    "used_tags = data['tag'].value_counts().index.tolist()[:NUM_TAGS_USED]\n",
    "data = data[data['tag'].isin(used_tags)]\n",
    "\n",
    "tags = sorted(data['tag'].unique())\n",
    "tagDictionary = {tag: i for i, tag in enumerate(tags)}\n",
    "data['tagID'] = (data['tag'].map(tagDictionary)).astype(int)\n",
    "\n",
    "data['userID'] = data['userID'].astype(int)\n",
    "data['movieID'] = data['movieID'].astype(int)\n",
    "\n",
    "validUserIDs = np.argsort(sorted(data['userID'].unique()))\n",
    "validUserIDMappings = {userID: validUserIDs[i] for i, userID in enumerate(data['userID'].unique())}\n",
    "data['userID'] = data['userID'].map(validUserIDMappings).astype(int)\n",
    "\n",
    "validMovieIDs = np.argsort(sorted(data['movieID'].unique()))\n",
    "validMovieIDMappings = {movieID: validMovieIDs[i] for i, movieID in enumerate(data['movieID'].unique())}\n",
    "data['movieID'] = data['movieID'].map(validMovieIDMappings).astype(int)\n",
    "\n",
    "numTags = len(data['tag'].unique())\n",
    "numUsers = len(data['userID'].unique())\n",
    "numMovies = len(data['movieID'].unique())"
   ]
  },
  {
   "cell_type": "code",
   "execution_count": 3,
   "metadata": {},
   "outputs": [],
   "source": [
    "invertedTagDictionary = {v: k for k,v in tagDictionary.iteritems()}"
   ]
  },
  {
   "cell_type": "code",
   "execution_count": 4,
   "metadata": {},
   "outputs": [],
   "source": [
    "data.to_csv('reduced_data.csv')"
   ]
  },
  {
   "cell_type": "code",
   "execution_count": 5,
   "metadata": {},
   "outputs": [],
   "source": [
    "def normalize_R(R_input):\n",
    "    numRows = np.shape(R_input)[0]\n",
    "    numCols = np.shape(R_input)[1]\n",
    "    sumOverRows = np.sum(R_input, axis=0).reshape((1,numCols))\n",
    "    sumOverCols = np.sum(R_input, axis=1).reshape((numRows,1))\n",
    "    print(np.shape(sumOverRows*sumOverCols))\n",
    "    return np.divide(R_input, np.sqrt(sumOverCols*sumOverRows))"
   ]
  },
  {
   "cell_type": "code",
   "execution_count": 6,
   "metadata": {},
   "outputs": [
    {
     "name": "stdout",
     "output_type": "stream",
     "text": [
      "(1818, 100)\n"
     ]
    }
   ],
   "source": [
    "Rut = np.zeros((numUsers, numTags))\n",
    "def build_Rut():\n",
    "    for i, row in data.iterrows():\n",
    "        userID = row['userID']\n",
    "        tagID = row['tagID']\n",
    "        Rut[userID][tagID] += 1\n",
    "\n",
    "build_Rut()\n",
    "Rut = normalize_R(Rut)"
   ]
  },
  {
   "cell_type": "code",
   "execution_count": 7,
   "metadata": {},
   "outputs": [
    {
     "name": "stdout",
     "output_type": "stream",
     "text": [
      "[[ 1.  1.  0. ...,  0.  0.  0.]\n",
      " [ 0.  0.  1. ...,  0.  0.  0.]\n",
      " [ 0.  0.  0. ...,  0.  0.  0.]\n",
      " ..., \n",
      " [ 0.  0.  0. ...,  0.  0.  0.]\n",
      " [ 0.  0.  0. ...,  0.  0.  0.]\n",
      " [ 0.  0.  0. ...,  0.  0.  0.]]\n"
     ]
    }
   ],
   "source": [
    "\n",
    "Rud = np.zeros((numUsers, numMovies))\n",
    "\n",
    "def build_Rud():\n",
    "    for i, row in data.iterrows():\n",
    "        userID = row['userID']\n",
    "        movieID = row['movieID']\n",
    "        Rud[userID][movieID] = 1\n",
    "\n",
    "build_Rud()\n",
    "print Rud"
   ]
  },
  {
   "cell_type": "code",
   "execution_count": 8,
   "metadata": {},
   "outputs": [
    {
     "name": "stdout",
     "output_type": "stream",
     "text": [
      "(100, 5374)\n"
     ]
    }
   ],
   "source": [
    "Rtd = np.zeros((numTags, numMovies))\n",
    "Rtd_binary = np.zeros((numTags, numMovies))\n",
    "W_dict = collections.defaultdict(set)\n",
    "\n",
    "def build_Rtd():\n",
    "    for i, row in data.iterrows():\n",
    "        tagID = row['tagID']\n",
    "        movieID = row['movieID']\n",
    "        W_dict[movieID].add(tagID)\n",
    "        Rtd[tagID][movieID] += 1\n",
    "        Rtd_binary[tagID][movieID] = 1\n",
    "build_Rtd()\n",
    "Rtd = normalize_R(Rtd)\n",
    "    "
   ]
  },
  {
   "cell_type": "code",
   "execution_count": 9,
   "metadata": {
    "scrolled": true
   },
   "outputs": [
    {
     "name": "stderr",
     "output_type": "stream",
     "text": [
      "/Users/Rifath/anaconda2/lib/python2.7/site-packages/sklearn/utils/validation.py:475: DataConversionWarning: Data with input dtype float64 was converted to bool by check_pairwise_arrays.\n",
      "  warnings.warn(msg, DataConversionWarning)\n"
     ]
    },
    {
     "name": "stdout",
     "output_type": "stream",
     "text": [
      "[[ 1.          0.06666667  0.07142857 ...,  0.14285714  0.          0.        ]\n",
      " [ 0.06666667  1.          0.         ...,  0.          0.          0.        ]\n",
      " [ 0.07142857  0.          1.         ...,  0.          0.          0.        ]\n",
      " ..., \n",
      " [ 0.14285714  0.          0.         ...,  1.          0.          0.        ]\n",
      " [ 0.          0.          0.         ...,  0.          1.          1.        ]\n",
      " [ 0.          0.          0.         ...,  0.          1.          1.        ]]\n",
      "(5374, 5374)\n"
     ]
    }
   ],
   "source": [
    "W = pairwise.pairwise_distances(Rtd_binary.T, metric='jaccard')\n",
    "W = np.ones(W.shape) - W\n",
    "print(W)\n",
    "print (W.shape)\n"
   ]
  },
  {
   "cell_type": "code",
   "execution_count": 371,
   "metadata": {},
   "outputs": [],
   "source": [
    "\n",
    "beta = 0.9\n",
    "alpha = (1-beta)/3\n",
    "gamma = (1-beta)/3\n",
    "eta = (1-beta)/3"
   ]
  },
  {
   "cell_type": "code",
   "execution_count": 372,
   "metadata": {},
   "outputs": [],
   "source": [
    "def D_sumrows(R):\n",
    "    D = np.sum(R, axis=1)\n",
    "    D = np.diag(D)\n",
    "    return D\n",
    "\n",
    "\n",
    "D_ut = D_sumrows(Rut)\n",
    "D_tu = D_sumrows(Rut.T)\n",
    "\n",
    "D_td = D_sumrows(Rtd)\n",
    "D_dt = D_sumrows(Rtd.T)\n",
    "\n",
    "D_ud = D_sumrows(Rud)\n",
    "D_du = D_sumrows(Rud.T)\n",
    "\n",
    "D = D_sumrows(W)\n",
    "\n",
    "L = D - W\n",
    "\n",
    "elementsDict = {}\n",
    "\n",
    "def buildLprime():\n",
    "    elementsDict[(0,0)] = alpha*D_ut + gamma*D_ud\n",
    "    elementsDict[(0, 1)] = -alpha*Rut\n",
    "    elementsDict[(0, 2)] = -gamma*Rud\n",
    "    elementsDict[(1,0)] = -alpha*Rut.T\n",
    "    elementsDict[(1,1)] = alpha*D_tu + beta*D_td\n",
    "    elementsDict[(1,2)] = -beta*Rtd\n",
    "    elementsDict[(2, 0)] = -gamma*Rud.T\n",
    "    elementsDict[(2, 1)] = -beta*Rtd.T\n",
    "    elementsDict[(2, 2)] = beta*D_dt + gamma*D_du + eta*L\n",
    "    \n",
    "    row1 = np.concatenate((elementsDict[(0,0)], elementsDict[(0, 1)], elementsDict[(0, 2)]), axis=1)\n",
    "    row2 = np.concatenate((elementsDict[(1,0)], elementsDict[(1, 1)], elementsDict[(1, 2)]), axis=1)\n",
    "    row3 = np.concatenate((elementsDict[(2,0)], elementsDict[(2, 1)], elementsDict[(2, 2)]), axis=1)\n",
    "    \n",
    "    return np.concatenate((row1, row2, row3), axis=0)\n",
    "\n",
    "\n",
    "L_prime = buildLprime()"
   ]
  },
  {
   "cell_type": "code",
   "execution_count": 373,
   "metadata": {},
   "outputs": [],
   "source": [
    "def buildDprime():\n",
    "    d1 = elementsDict[(0, 0)]\n",
    "    d2 = elementsDict[(1, 1)]\n",
    "    d3 = beta*D_dt + gamma*D_du + eta*D\n",
    "    \n",
    "    row1 = np.concatenate((d1, np.zeros((numUsers, numTags)), np.zeros((numUsers, numMovies))), axis=1)\n",
    "    row2 = np.concatenate((np.zeros((numTags, numUsers)), d2, np.zeros((numTags, numMovies))), axis=1)\n",
    "    row3 = np.concatenate((np.zeros((numMovies, numUsers)), np.zeros((numMovies, numTags)), d3),axis=1)\n",
    "    \n",
    "    return np.concatenate((row1, row2, row3), axis=0)\n",
    "\n",
    "D_prime = buildDprime()"
   ]
  },
  {
   "cell_type": "code",
   "execution_count": 374,
   "metadata": {},
   "outputs": [
    {
     "name": "stdout",
     "output_type": "stream",
     "text": [
      "[  7.92911459e-16   3.24013998e-02   3.28175830e-02 ...,   2.49923319e+01\n",
      "   2.74937780e+01   3.15751303e+01]\n",
      "[[  1.17105332e-02   1.17231603e-04  -9.89828343e-05 ...,  -1.10795716e-07\n",
      "    9.48827020e-08  -8.02838121e-08]\n",
      " [  1.17105332e-02   1.13045420e-03  -1.25352413e-03 ...,   2.31375854e-06\n",
      "    4.16306076e-08   1.39926563e-06]\n",
      " [  1.17105332e-02  -5.10003377e-02  -7.00444768e-04 ...,  -9.03096314e-09\n",
      "    4.43800327e-09  -5.01729489e-09]\n",
      " ..., \n",
      " [  1.17105332e-02   6.12785309e-05  -5.78479268e-05 ...,   7.22676995e-06\n",
      "   -8.86564912e-06   8.31827654e-06]\n",
      " [  1.17105332e-02   2.49144005e-05  -6.63263545e-05 ...,   1.19218524e-05\n",
      "   -3.04737308e-06   6.60834007e-06]\n",
      " [  1.17105332e-02   2.49144005e-05  -6.63263545e-05 ...,   1.19218524e-05\n",
      "   -3.04737308e-06   6.60834007e-06]]\n"
     ]
    }
   ],
   "source": [
    "w, v = np.linalg.eigh(L_prime)\n",
    "print w\n",
    "print v"
   ]
  },
  {
   "cell_type": "code",
   "execution_count": 385,
   "metadata": {},
   "outputs": [],
   "source": [
    "K = 350\n",
    "H = v[:, 1:(K+1)]\n",
    "H_rows = np.shape(H)[0]\n",
    "M = H[H_rows-numMovies:,:]\n",
    "invertedMovieIDS = {v: k for k,v in validMovieIDMappings.iteritems()}\n",
    "M_sim = pairwise.pairwise_distances(M, metric='cosine')\n",
    "M_sim = np.ones(M_sim.shape) - M_sim"
   ]
  },
  {
   "cell_type": "code",
   "execution_count": 386,
   "metadata": {
    "scrolled": false
   },
   "outputs": [
    {
     "data": {
      "text/plain": [
       "'\\nmovies_data = pd.read_table(\\'data/movies.dat\\', delimiter=\\'::\\', engine=\\'python\\')\\nmovies_data[\\'movieID\\'] = movies_data[\\'movieID\\'].astype(int)\\nmovies_data[\\'movieName\\'] = movies_data[\\'movieName\\'].astype(str)\\nmovies_data[\\'tags\\'] = movies_data[\\'tags\\'].astype(str)\\n\\nmovieIDToName = {}\\nmovieIDToTags = {}\\nfor i, row in movies_data.iterrows():\\n    if row[\\'movieID\\'] not in validMovieIDMappings:\\n        continue\\n    movieIDToName[row[\\'movieID\\']] = row[\\'movieName\\']\\n    movieIDToTags[row[\\'movieID\\']] = row[\\'tags\\']\\n\\n\\n\\nfor i in xrange(len(M_sim)):\\n    row = M_sim[i]\\n    mostSimilarMovieID = np.argsort(row)[-2]\\n    \\n    mostSimilarMovieActualID = invertedMovieIDS[mostSimilarMovieID]\\n    actualCurrentID = invertedMovieIDS[i]\\n    #print \"Movie: \", movieIDToName[actualCurrentID], \" is most similar to \", movieIDToName[mostSimilarMovieActualID], i, mostSimilarMovieID\\n    #print \"Tags for Movie:\", movieIDToTags[actualCurrentID], \"  Tags for most similar Movie: \", movieIDToTags[mostSimilarMovieActualID]\\n    #print \\'\\n\\'\\n'"
      ]
     },
     "execution_count": 386,
     "metadata": {},
     "output_type": "execute_result"
    }
   ],
   "source": [
    "'''\n",
    "movies_data = pd.read_table('data/movies.dat', delimiter='::', engine='python')\n",
    "movies_data['movieID'] = movies_data['movieID'].astype(int)\n",
    "movies_data['movieName'] = movies_data['movieName'].astype(str)\n",
    "movies_data['tags'] = movies_data['tags'].astype(str)\n",
    "\n",
    "movieIDToName = {}\n",
    "movieIDToTags = {}\n",
    "for i, row in movies_data.iterrows():\n",
    "    if row['movieID'] not in validMovieIDMappings:\n",
    "        continue\n",
    "    movieIDToName[row['movieID']] = row['movieName']\n",
    "    movieIDToTags[row['movieID']] = row['tags']\n",
    "\n",
    "\n",
    "\n",
    "for i in xrange(len(M_sim)):\n",
    "    row = M_sim[i]\n",
    "    mostSimilarMovieID = np.argsort(row)[-2]\n",
    "    \n",
    "    mostSimilarMovieActualID = invertedMovieIDS[mostSimilarMovieID]\n",
    "    actualCurrentID = invertedMovieIDS[i]\n",
    "    #print \"Movie: \", movieIDToName[actualCurrentID], \" is most similar to \", movieIDToName[mostSimilarMovieActualID], i, mostSimilarMovieID\n",
    "    #print \"Tags for Movie:\", movieIDToTags[actualCurrentID], \"  Tags for most similar Movie: \", movieIDToTags[mostSimilarMovieActualID]\n",
    "    #print '\\n'\n",
    "'''\n",
    "    "
   ]
  },
  {
   "cell_type": "code",
   "execution_count": 387,
   "metadata": {},
   "outputs": [
    {
     "data": {
      "text/plain": [
       "'\\nfrom sklearn.decomposition import PCA\\nimport matplotlib.pyplot as plt\\n\\nM = H[H_rows-numMovies:,:]\\nT = H[numUsers:H_rows-numMovies,:]\\n\\ndef fit_pca(matrix, title):\\n    pca = PCA(n_components=2)\\n    pca.fit(matrix)\\n    firstComponent = pca.components_[0,:]\\n    secondComponent = pca.components_[1,:]\\n    x = []\\n    y = []\\n    for row in matrix:\\n        firstCoordinate = np.dot(firstComponent, row)\\n        secondCoordinate = np.dot(secondComponent, row)\\n        x.append(firstCoordinate)\\n        y.append(secondCoordinate)\\n    plt.figure()\\n    plt.plot(x, y, \\'b.\\')\\n    plt.xlabel(\"Value of the projection onto first component\")\\n    plt.ylabel(\"Value of the projection onto second component\")\\n    plt.title(title)\\n    plt.show()\\n'"
      ]
     },
     "execution_count": 387,
     "metadata": {},
     "output_type": "execute_result"
    }
   ],
   "source": [
    "'''\n",
    "from sklearn.decomposition import PCA\n",
    "import matplotlib.pyplot as plt\n",
    "\n",
    "M = H[H_rows-numMovies:,:]\n",
    "T = H[numUsers:H_rows-numMovies,:]\n",
    "\n",
    "def fit_pca(matrix, title):\n",
    "    pca = PCA(n_components=2)\n",
    "    pca.fit(matrix)\n",
    "    firstComponent = pca.components_[0,:]\n",
    "    secondComponent = pca.components_[1,:]\n",
    "    x = []\n",
    "    y = []\n",
    "    for row in matrix:\n",
    "        firstCoordinate = np.dot(firstComponent, row)\n",
    "        secondCoordinate = np.dot(secondComponent, row)\n",
    "        x.append(firstCoordinate)\n",
    "        y.append(secondCoordinate)\n",
    "    plt.figure()\n",
    "    plt.plot(x, y, 'b.')\n",
    "    plt.xlabel(\"Value of the projection onto first component\")\n",
    "    plt.ylabel(\"Value of the projection onto second component\")\n",
    "    plt.title(title)\n",
    "    plt.show()\n",
    "'''"
   ]
  },
  {
   "cell_type": "code",
   "execution_count": 388,
   "metadata": {},
   "outputs": [
    {
     "data": {
      "text/plain": [
       "'\\nfrom sklearn.manifold import TSNE\\n\\nX_embedded = TSNE(n_components=2).fit_transform(M)\\nx,y = [],[]\\nmoviesOfInterest = [(14, 15), (605, 603)]\\nfor row in X_embedded:\\n    x.append(row[0])\\n    y.append(row[1])\\n    \\n'"
      ]
     },
     "execution_count": 388,
     "metadata": {},
     "output_type": "execute_result"
    }
   ],
   "source": [
    "'''\n",
    "from sklearn.manifold import TSNE\n",
    "\n",
    "X_embedded = TSNE(n_components=2).fit_transform(M)\n",
    "x,y = [],[]\n",
    "moviesOfInterest = [(14, 15), (605, 603)]\n",
    "for row in X_embedded:\n",
    "    x.append(row[0])\n",
    "    y.append(row[1])\n",
    "    \n",
    "'''"
   ]
  },
  {
   "cell_type": "code",
   "execution_count": 389,
   "metadata": {},
   "outputs": [
    {
     "data": {
      "text/plain": [
       "\"\\nplt.scatter(x, y, s=1)\\n\\nplt.scatter([x[14]],[y[14]], s=100, label='Dawn of the Dead (2004)', marker='^')\\nplt.scatter([x[15]], [y[15]],s=30, label='Dawn of the Dead (1978)', marker='^')\\nplt.scatter([x[605]], [y[605]], s=100, label='Castle in the Sky', marker='^')\\nplt.scatter([x[603]], [y[603]], s=20, label='My Neighbor Totoro', c='k', marker='^')\\n\\nplt.legend()\\n\""
      ]
     },
     "execution_count": 389,
     "metadata": {},
     "output_type": "execute_result"
    }
   ],
   "source": [
    "\n",
    "'''\n",
    "plt.scatter(x, y, s=1)\n",
    "\n",
    "plt.scatter([x[14]],[y[14]], s=100, label='Dawn of the Dead (2004)', marker='^')\n",
    "plt.scatter([x[15]], [y[15]],s=30, label='Dawn of the Dead (1978)', marker='^')\n",
    "plt.scatter([x[605]], [y[605]], s=100, label='Castle in the Sky', marker='^')\n",
    "plt.scatter([x[603]], [y[603]], s=20, label='My Neighbor Totoro', c='k', marker='^')\n",
    "\n",
    "plt.legend()\n",
    "'''"
   ]
  },
  {
   "cell_type": "code",
   "execution_count": 390,
   "metadata": {},
   "outputs": [],
   "source": [
    "\n",
    "genres = set()\n",
    "genreToID = {}\n",
    "for key, val in movieIDToTags.items():\n",
    "    val = val.split('|')\n",
    "    for g in val:\n",
    "        genres.add(g)\n",
    "genreToID = {g: i for i, g in enumerate(sorted(genres))}\n",
    "numGenres = len(genreToID)\n",
    "genreMatrix = np.zeros((numMovies, numGenres))\n",
    "\n",
    "for key, value in movieIDToTags.items():\n",
    "    value = value.split('|')\n",
    "    for g in value:\n",
    "        genreMatrix[validMovieIDMappings[key]][genreToID[g]] = 1\n",
    "\n",
    "        \n"
   ]
  },
  {
   "cell_type": "code",
   "execution_count": 391,
   "metadata": {},
   "outputs": [
    {
     "name": "stdout",
     "output_type": "stream",
     "text": [
      "[[ 1.          0.          0.         ...,  0.5         0.33333333  0.        ]\n",
      " [ 0.          1.          0.25       ...,  0.          0.2         0.        ]\n",
      " [ 0.          0.25        1.         ...,  0.          0.25        0.33333333]\n",
      " ..., \n",
      " [ 0.5         0.          0.         ...,  1.          0.25        0.        ]\n",
      " [ 0.33333333  0.2         0.25       ...,  0.25        1.          0.        ]\n",
      " [ 0.          0.          0.33333333 ...,  0.          0.          1.        ]]\n"
     ]
    }
   ],
   "source": [
    "\n",
    "G_sim = pairwise.pairwise_distances(genreMatrix, metric='jaccard')\n",
    "G_sim = np.ones(G_sim.shape) - G_sim\n",
    "print G_sim\n",
    "\n",
    "seenPairs = set([])\n",
    "while(len(seenPairs) < 10000):\n",
    "    tupleToAdd = (np.random.randint(0, numMovies), np.random.randint(0, numMovies))\n",
    "    tupleToAdd = tuple(sorted(list(tupleToAdd)))\n",
    "    if tupleToAdd[0] == tupleToAdd[1]:\n",
    "        continue\n",
    "    if tupleToAdd in seenPairs:\n",
    "        continue\n",
    "    seenPairs.add(tupleToAdd)\n",
    "    \n",
    "embedding_x = [M_sim[i][j] for i,j in seenPairs]\n",
    "genre_y = [G_sim[i][j] for i,j in seenPairs]\n",
    "\n",
    "        \n"
   ]
  },
  {
   "cell_type": "code",
   "execution_count": 392,
   "metadata": {},
   "outputs": [
    {
     "data": {
      "text/plain": [
       "'\\nplt.figure()\\nplt.scatter(embedding_x, genre_y)\\nplt.show()\\n'"
      ]
     },
     "execution_count": 392,
     "metadata": {},
     "output_type": "execute_result"
    }
   ],
   "source": [
    "'''\n",
    "plt.figure()\n",
    "plt.scatter(embedding_x, genre_y)\n",
    "plt.show()\n",
    "'''"
   ]
  },
  {
   "cell_type": "code",
   "execution_count": 393,
   "metadata": {},
   "outputs": [
    {
     "data": {
      "text/plain": [
       "Text(0.759005,0.311905,u'$R = 0.366$')"
      ]
     },
     "execution_count": 393,
     "metadata": {},
     "output_type": "execute_result"
    },
    {
     "data": {
      "image/png": "[encoded data removed]",
      "text/plain": [
       "<matplotlib.figure.Figure at 0x1a1864c510>"
      ]
     },
     "metadata": {},
     "output_type": "display_data"
    }
   ],
   "source": [
    "from scipy.stats import binned_statistic\n",
    "\n",
    "num_bins = 200\n",
    "binned_stats = binned_statistic(embedding_x, genre_y, bins=num_bins)\n",
    "bins = binned_stats.binnumber\n",
    "\n",
    "bin_x_avgs = {i: np.mean([x for j,x in enumerate(embedding_x) if bins[j] == i]) for i in range(1, num_bins+1)}\n",
    "bin_y_avgs = binned_stats.statistic\n",
    "\n",
    "x = [bin_x_avgs[i] for i in range(1,num_bins+1)]\n",
    "y = bin_y_avgs\n",
    "\n",
    "x = np.nan_to_num(x)\n",
    "y = np.nan_to_num(y)\n",
    "\n",
    "plt.scatter(x, y)\n",
    "plt.plot(np.unique(x), np.poly1d(np.polyfit(x,y,1))(np.unique(x)), c='r')\n",
    "plt.xlabel('Embedding similarity (Cosine)')\n",
    "plt.ylabel('Genre similarity (Jaccard)')\n",
    "plt.title('B = %0.2f, K = %d' % (beta, K))\n",
    "\n",
    "order = 1\n",
    "c = 'r'\n",
    "coeffs = np.polyfit(x, y, order)\n",
    "intercept = coeffs[-1]\n",
    "slope = coeffs[-2]\n",
    "power = coeffs[0] if order == 2 else 0\n",
    "\n",
    "minxd = np.min(x)\n",
    "maxxd = np.max(x)\n",
    "\n",
    "xl = np.array([minxd, maxxd])\n",
    "yl = power * xl ** 2 + slope * xl + intercept\n",
    "\n",
    "#Plot trendline\n",
    "plt.plot(xl, yl, c, alpha=alpha)\n",
    "\n",
    "#Calculate R Squared\n",
    "p = np.poly1d(coeffs)\n",
    "\n",
    "ybar = np.sum(y) / len(y)\n",
    "ssreg = np.sum((p(x) - ybar) ** 2)\n",
    "sstot = np.sum((y - ybar) ** 2)\n",
    "Rsqr = ssreg / sstot\n",
    "\n",
    "\n",
    "    #Plot R^2 value\n",
    "plt.text(0.8 * maxxd + 0.2 * minxd, 0.8 * np.max(y) + 0.2 * np.min(y),\n",
    "             '$R = %0.3f$' % np.sqrt(Rsqr))"
   ]
  }
 ],
 "metadata": {
  "kernelspec": {
   "display_name": "Python 2",
   "language": "python",
   "name": "python2"
  },
  "language_info": {
   "codemirror_mode": {
    "name": "ipython",
    "version": 2
   },
   "file_extension": ".py",
   "mimetype": "text/x-python",
   "name": "python",
   "nbconvert_exporter": "python",
   "pygments_lexer": "ipython2",
   "version": "2.7.14"
  }
 },
 "nbformat": 4,
 "nbformat_minor": 2
}
