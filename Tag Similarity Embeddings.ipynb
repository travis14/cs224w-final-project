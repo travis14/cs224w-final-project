{
 "cells": [
  {
   "cell_type": "code",
   "execution_count": 1,
   "metadata": {},
   "outputs": [],
   "source": [
    "import pandas as pd\n",
    "import numpy as np\n",
    "import collections\n",
    "import copy\n",
    "import sklearn.metrics.pairwise as pairwise"
   ]
  },
  {
   "cell_type": "code",
   "execution_count": 2,
   "metadata": {},
   "outputs": [],
   "source": [
    "\n",
    "NUM_TAGS_USED = 100\n",
    "\n",
    "tagDictionary = {}\n",
    "idCounter = 0\n",
    "\n",
    "data = pd.read_table('data/tags.dat', delimiter='::', engine='python')\n",
    "data = data.drop(columns=['timestamp'])\n",
    "data['tag'] = data['tag'].astype(str).str.lower().str.strip()\n",
    "tags = sorted(data['tag'].unique())\n",
    "used_tags = data['tag'].value_counts().index.tolist()[:NUM_TAGS_USED]\n",
    "data = data[data['tag'].isin(used_tags)]\n",
    "\n",
    "tags = sorted(data['tag'].unique())\n",
    "tagDictionary = {tag: i for i, tag in enumerate(tags)}\n",
    "data['tagID'] = (data['tag'].map(tagDictionary)).astype(int)\n",
    "\n",
    "data['userID'] = data['userID'].astype(int)\n",
    "data['movieID'] = data['movieID'].astype(int)\n",
    "\n",
    "validUserIDs = np.argsort(sorted(data['userID'].unique()))\n",
    "validUserIDMappings = {userID: validUserIDs[i] for i, userID in enumerate(data['userID'].unique())}\n",
    "data['userID'] = data['userID'].map(validUserIDMappings).astype(int)\n",
    "\n",
    "validMovieIDs = np.argsort(sorted(data['movieID'].unique()))\n",
    "validMovieIDMappings = {movieID: validMovieIDs[i] for i, movieID in enumerate(data['movieID'].unique())}\n",
    "data['movieID'] = data['movieID'].map(validMovieIDMappings).astype(int)\n",
    "\n",
    "numTags = len(data['tag'].unique())\n",
    "numUsers = len(data['userID'].unique())\n",
    "numMovies = len(data['movieID'].unique())"
   ]
  },
  {
   "cell_type": "code",
   "execution_count": 3,
   "metadata": {},
   "outputs": [],
   "source": [
    "invertedTagDictionary = {v: k for k,v in tagDictionary.iteritems()}"
   ]
  },
  {
   "cell_type": "code",
   "execution_count": 4,
   "metadata": {},
   "outputs": [],
   "source": [
    "data.to_csv('reduced_data.csv')"
   ]
  },
  {
   "cell_type": "code",
   "execution_count": 5,
   "metadata": {},
   "outputs": [],
   "source": [
    "def normalize_R(R_input):\n",
    "    numRows = np.shape(R_input)[0]\n",
    "    numCols = np.shape(R_input)[1]\n",
    "    sumOverRows = np.sum(R_input, axis=0).reshape((1,numCols))\n",
    "    sumOverCols = np.sum(R_input, axis=1).reshape((numRows,1))\n",
    "    print(np.shape(sumOverRows*sumOverCols))\n",
    "    return np.divide(R_input, np.sqrt(sumOverCols*sumOverRows))"
   ]
  },
  {
   "cell_type": "code",
   "execution_count": 6,
   "metadata": {},
   "outputs": [
    {
     "name": "stdout",
     "output_type": "stream",
     "text": [
      "(1818, 100)\n"
     ]
    }
   ],
   "source": [
    "Rut = np.zeros((numUsers, numTags))\n",
    "def build_Rut():\n",
    "    for i, row in data.iterrows():\n",
    "        userID = row['userID']\n",
    "        tagID = row['tagID']\n",
    "        Rut[userID][tagID] += 1\n",
    "\n",
    "build_Rut()\n",
    "Rut = normalize_R(Rut)"
   ]
  },
  {
   "cell_type": "code",
   "execution_count": 7,
   "metadata": {},
   "outputs": [
    {
     "name": "stdout",
     "output_type": "stream",
     "text": [
      "[[ 1.  1.  0. ...,  0.  0.  0.]\n",
      " [ 0.  0.  1. ...,  0.  0.  0.]\n",
      " [ 0.  0.  0. ...,  0.  0.  0.]\n",
      " ..., \n",
      " [ 0.  0.  0. ...,  0.  0.  0.]\n",
      " [ 0.  0.  0. ...,  0.  0.  0.]\n",
      " [ 0.  0.  0. ...,  0.  0.  0.]]\n"
     ]
    }
   ],
   "source": [
    "\n",
    "Rud = np.zeros((numUsers, numMovies))\n",
    "\n",
    "def build_Rud():\n",
    "    for i, row in data.iterrows():\n",
    "        userID = row['userID']\n",
    "        movieID = row['movieID']\n",
    "        Rud[userID][movieID] = 1\n",
    "\n",
    "build_Rud()\n",
    "print Rud"
   ]
  },
  {
   "cell_type": "code",
   "execution_count": 8,
   "metadata": {},
   "outputs": [
    {
     "name": "stdout",
     "output_type": "stream",
     "text": [
      "(100, 5374)\n"
     ]
    }
   ],
   "source": [
    "Rtd = np.zeros((numTags, numMovies))\n",
    "Rtd_binary = np.zeros((numTags, numMovies))\n",
    "W_dict = collections.defaultdict(set)\n",
    "\n",
    "def build_Rtd():\n",
    "    for i, row in data.iterrows():\n",
    "        tagID = row['tagID']\n",
    "        movieID = row['movieID']\n",
    "        W_dict[movieID].add(tagID)\n",
    "        Rtd[tagID][movieID] += 1\n",
    "        Rtd_binary[tagID][movieID] = 1\n",
    "build_Rtd()\n",
    "Rtd = normalize_R(Rtd)\n",
    "    "
   ]
  },
  {
   "cell_type": "code",
   "execution_count": 9,
   "metadata": {
    "scrolled": true
   },
   "outputs": [
    {
     "name": "stderr",
     "output_type": "stream",
     "text": [
      "/Users/Rifath/anaconda2/lib/python2.7/site-packages/sklearn/utils/validation.py:475: DataConversionWarning: Data with input dtype float64 was converted to bool by check_pairwise_arrays.\n",
      "  warnings.warn(msg, DataConversionWarning)\n"
     ]
    },
    {
     "name": "stdout",
     "output_type": "stream",
     "text": [
      "[[ 1.          0.06666667  0.07142857 ...,  0.14285714  0.          0.        ]\n",
      " [ 0.06666667  1.          0.         ...,  0.          0.          0.        ]\n",
      " [ 0.07142857  0.          1.         ...,  0.          0.          0.        ]\n",
      " ..., \n",
      " [ 0.14285714  0.          0.         ...,  1.          0.          0.        ]\n",
      " [ 0.          0.          0.         ...,  0.          1.          1.        ]\n",
      " [ 0.          0.          0.         ...,  0.          1.          1.        ]]\n",
      "(5374, 5374)\n"
     ]
    }
   ],
   "source": [
    "W = pairwise.pairwise_distances(Rtd_binary.T, metric='jaccard')\n",
    "W = np.ones(W.shape) - W\n",
    "print(W)\n",
    "print (W.shape)\n"
   ]
  },
  {
   "cell_type": "code",
   "execution_count": 10,
   "metadata": {},
   "outputs": [],
   "source": [
    "alpha = 0.1\n",
    "beta = 0.7\n",
    "gamma = 0.1\n",
    "eta = 0.1"
   ]
  },
  {
   "cell_type": "code",
   "execution_count": 11,
   "metadata": {},
   "outputs": [],
   "source": [
    "def D_sumrows(R):\n",
    "    D = np.sum(R, axis=1)\n",
    "    D = np.diag(D)\n",
    "    return D\n",
    "\n",
    "\n",
    "D_ut = D_sumrows(Rut)\n",
    "D_tu = D_sumrows(Rut.T)\n",
    "\n",
    "D_td = D_sumrows(Rtd)\n",
    "D_dt = D_sumrows(Rtd.T)\n",
    "\n",
    "D_ud = D_sumrows(Rud)\n",
    "D_du = D_sumrows(Rud.T)\n",
    "\n",
    "D = D_sumrows(W)\n",
    "\n",
    "L = D - W\n",
    "\n",
    "elementsDict = {}\n",
    "\n",
    "def buildLprime():\n",
    "    elementsDict[(0,0)] = alpha*D_ut + gamma*D_ud\n",
    "    elementsDict[(0, 1)] = -alpha*Rut\n",
    "    elementsDict[(0, 2)] = -gamma*Rud\n",
    "    elementsDict[(1,0)] = -alpha*Rut.T\n",
    "    elementsDict[(1,1)] = alpha*D_tu + beta*D_td\n",
    "    elementsDict[(1,2)] = -beta*Rtd\n",
    "    elementsDict[(2, 0)] = -gamma*Rud.T\n",
    "    elementsDict[(2, 1)] = -beta*Rtd.T\n",
    "    elementsDict[(2, 2)] = beta*D_dt + gamma*D_du + eta*L\n",
    "    \n",
    "    row1 = np.concatenate((elementsDict[(0,0)], elementsDict[(0, 1)], elementsDict[(0, 2)]), axis=1)\n",
    "    row2 = np.concatenate((elementsDict[(1,0)], elementsDict[(1, 1)], elementsDict[(1, 2)]), axis=1)\n",
    "    row3 = np.concatenate((elementsDict[(2,0)], elementsDict[(2, 1)], elementsDict[(2, 2)]), axis=1)\n",
    "    \n",
    "    return np.concatenate((row1, row2, row3), axis=0)\n",
    "\n",
    "\n",
    "L_prime = buildLprime()"
   ]
  },
  {
   "cell_type": "code",
   "execution_count": 12,
   "metadata": {},
   "outputs": [],
   "source": [
    "def buildDprime():\n",
    "    d1 = elementsDict[(0, 0)]\n",
    "    d2 = elementsDict[(1, 1)]\n",
    "    d3 = beta*D_dt + gamma*D_du + eta*D\n",
    "    \n",
    "    row1 = np.concatenate((d1, np.zeros((numUsers, numTags)), np.zeros((numUsers, numMovies))), axis=1)\n",
    "    row2 = np.concatenate((np.zeros((numTags, numUsers)), d2, np.zeros((numTags, numMovies))), axis=1)\n",
    "    row3 = np.concatenate((np.zeros((numMovies, numUsers)), np.zeros((numMovies, numTags)), d3),axis=1)\n",
    "    \n",
    "    return np.concatenate((row1, row2, row3), axis=0)\n",
    "\n",
    "D_prime = buildDprime()"
   ]
  },
  {
   "cell_type": "code",
   "execution_count": 13,
   "metadata": {},
   "outputs": [
    {
     "name": "stdout",
     "output_type": "stream",
     "text": [
      "[ -5.56260433e-15   9.58001416e-02   9.64174349e-02 ...,   7.49765610e+01\n",
      "   8.24809674e+01   9.47250184e+01]\n",
      "[[ -1.17105332e-02  -1.30063636e-04   1.21537135e-04 ...,  -1.07459582e-07\n",
      "    9.04611817e-08  -7.74190472e-08]\n",
      " [ -1.17105332e-02  -1.02595533e-03   1.07794952e-03 ...,   2.30123808e-06\n",
      "    4.09224353e-08   1.39350474e-06]\n",
      " [ -1.17105332e-02   5.42949594e-02   2.12254793e-04 ...,  -7.70472555e-09\n",
      "    3.35899521e-09  -3.69726125e-09]\n",
      " ..., \n",
      " [ -1.17105332e-02  -6.84370166e-05   7.01991037e-05 ...,   7.22745018e-06\n",
      "   -8.87614780e-06   8.33617110e-06]\n",
      " [ -1.17105332e-02  -2.76256534e-05   7.89284157e-05 ...,   1.20981345e-05\n",
      "   -3.05776526e-06   6.62175804e-06]\n",
      " [ -1.17105332e-02  -2.76256534e-05   7.89284157e-05 ...,   1.20981345e-05\n",
      "   -3.05776526e-06   6.62175804e-06]]\n"
     ]
    }
   ],
   "source": [
    "w, v = np.linalg.eigh(L_prime)\n",
    "print w\n",
    "print v"
   ]
  },
  {
   "cell_type": "code",
   "execution_count": 70,
   "metadata": {},
   "outputs": [
    {
     "name": "stdout",
     "output_type": "stream",
     "text": [
      "[[ -1.30063636e-04   1.21537135e-04  -1.70176977e-04 ...,  -2.65981815e-05\n",
      "   -2.37111021e-05  -3.51994177e-05]\n",
      " [ -1.02595533e-03   1.07794952e-03  -1.85394417e-03 ...,  -2.92346825e-02\n",
      "   -8.49331353e-03  -3.94121223e-02]\n",
      " [  5.42949594e-02   2.12254793e-04  -1.48233537e-03 ...,   1.86833671e-03\n",
      "   -7.07284702e-04   2.49542488e-03]\n",
      " ..., \n",
      " [ -6.84370166e-05   7.01991037e-05  -8.13212845e-05 ...,   2.49968884e-05\n",
      "    6.91950970e-06   5.72779572e-06]\n",
      " [ -2.76256534e-05   7.89284157e-05  -1.12458454e-04 ...,  -7.00126405e-05\n",
      "   -1.85709228e-05  -8.36602295e-05]\n",
      " [ -2.76256534e-05   7.89284157e-05  -1.12458454e-04 ...,  -7.00126405e-05\n",
      "   -1.85709228e-05  -8.36602295e-05]]\n",
      "(7292, 50)\n"
     ]
    }
   ],
   "source": [
    "K = 50\n",
    "H = v[:, 1:(K+1)]\n",
    "print H\n",
    "print H.shape"
   ]
  },
  {
   "cell_type": "code",
   "execution_count": 71,
   "metadata": {},
   "outputs": [],
   "source": [
    "H_rows = np.shape(H)[0]"
   ]
  },
  {
   "cell_type": "code",
   "execution_count": 72,
   "metadata": {},
   "outputs": [],
   "source": [
    "M = H[H_rows-numMovies:,:]"
   ]
  },
  {
   "cell_type": "code",
   "execution_count": 73,
   "metadata": {},
   "outputs": [
    {
     "name": "stdout",
     "output_type": "stream",
     "text": [
      "(5374, 50)\n"
     ]
    }
   ],
   "source": [
    "print(M.shape)"
   ]
  },
  {
   "cell_type": "code",
   "execution_count": 74,
   "metadata": {},
   "outputs": [
    {
     "name": "stdout",
     "output_type": "stream",
     "text": [
      "5374\n"
     ]
    }
   ],
   "source": [
    "print(numMovies)"
   ]
  },
  {
   "cell_type": "code",
   "execution_count": 75,
   "metadata": {},
   "outputs": [
    {
     "name": "stdout",
     "output_type": "stream",
     "text": [
      "[ -7.16155890e-05   7.07873441e-05  -1.00396593e-04   9.73329458e-05\n",
      "  -9.12937222e-05  -4.63109141e-05   2.05849973e-07  -4.06339431e-16\n",
      "  -8.42276741e-06   6.23321939e-05  -4.61169148e-05  -3.99816006e-06\n",
      "  -4.72171369e-05  -3.41775544e-05   1.69401887e-15   3.52923251e-05\n",
      "  -1.75090133e-06   5.07101507e-05  -3.44187420e-05   2.32661945e-06\n",
      "   4.06113068e-08  -1.93035740e-05   2.15564415e-05   9.19347610e-06\n",
      "  -2.10634057e-05  -2.98410459e-05  -5.24804537e-05   2.70629002e-05\n",
      "   1.39148720e-05  -4.82014761e-06   4.84706152e-06  -3.00966765e-05\n",
      "  -1.02688590e-05   1.38141538e-05  -2.48517135e-05  -9.06466485e-06\n",
      "  -5.18175120e-05  -6.03006444e-05  -3.13225915e-05   4.57320283e-05\n",
      "   2.18841905e-05   1.99678977e-05  -2.56687260e-05  -5.02357269e-05\n",
      "  -7.55207904e-05  -4.77080069e-06   2.62673370e-05  -2.09866053e-05\n",
      "  -1.12309182e-05  -2.82336624e-05]\n"
     ]
    }
   ],
   "source": [
    "print M[100]"
   ]
  },
  {
   "cell_type": "code",
   "execution_count": 76,
   "metadata": {},
   "outputs": [],
   "source": [
    "invertedMovieIDS = {v: k for k,v in validMovieIDMappings.iteritems()}"
   ]
  },
  {
   "cell_type": "code",
   "execution_count": 77,
   "metadata": {},
   "outputs": [],
   "source": [
    "M_sim = pairwise.pairwise_distances(M, metric='cosine')\n",
    "M_sim = np.ones(M_sim.shape) - M_sim"
   ]
  },
  {
   "cell_type": "code",
   "execution_count": 91,
   "metadata": {
    "scrolled": false
   },
   "outputs": [],
   "source": [
    "movies_data = pd.read_table('data/movies.dat', delimiter='::', engine='python')\n",
    "movies_data['movieID'] = movies_data['movieID'].astype(int)\n",
    "movies_data['movieName'] = movies_data['movieName'].astype(str)\n",
    "movies_data['tags'] = movies_data['tags'].astype(str)\n",
    "\n",
    "movieIDToName = {}\n",
    "movieIDToTags = {}\n",
    "for i, row in movies_data.iterrows():\n",
    "    movieIDToName[row['movieID']] = row['movieName']\n",
    "    movieIDToTags[row['movieID']] = row['tags']\n",
    "\n",
    "\n",
    "\n",
    "for i in xrange(len(M_sim)):\n",
    "    row = M_sim[i]\n",
    "    mostSimilarMovieID = np.argsort(row)[-2]\n",
    "    \n",
    "    mostSimilarMovieActualID = invertedMovieIDS[mostSimilarMovieID]\n",
    "    actualCurrentID = invertedMovieIDS[i]\n",
    "    #print \"Movie: \", movieIDToName[actualCurrentID], \" is most similar to \", movieIDToName[mostSimilarMovieActualID], i, mostSimilarMovieID\n",
    "    #print \"Tags for Movie:\", movieIDToTags[actualCurrentID], \"  Tags for most similar Movie: \", movieIDToTags[mostSimilarMovieActualID]\n",
    "    #print '\\n'\n",
    "\n",
    "    \n",
    "    "
   ]
  },
  {
   "cell_type": "code",
   "execution_count": 81,
   "metadata": {},
   "outputs": [
    {
     "data": {
      "text/plain": [
       "(5374, 50)"
      ]
     },
     "execution_count": 81,
     "metadata": {},
     "output_type": "execute_result"
    }
   ],
   "source": [
    "M.shape"
   ]
  },
  {
   "cell_type": "code",
   "execution_count": 82,
   "metadata": {},
   "outputs": [],
   "source": [
    "from sklearn.decomposition import PCA\n",
    "import matplotlib.pyplot as plt\n",
    "\n",
    "M = H[H_rows-numMovies:,:]\n",
    "T = H[numUsers:H_rows-numMovies,:]\n",
    "\n",
    "def fit_pca(matrix, title):\n",
    "    pca = PCA(n_components=2)\n",
    "    pca.fit(matrix)\n",
    "    firstComponent = pca.components_[0,:]\n",
    "    secondComponent = pca.components_[1,:]\n",
    "    x = []\n",
    "    y = []\n",
    "    for row in matrix:\n",
    "        firstCoordinate = np.dot(firstComponent, row)\n",
    "        secondCoordinate = np.dot(secondComponent, row)\n",
    "        x.append(firstCoordinate)\n",
    "        y.append(secondCoordinate)\n",
    "    plt.figure()\n",
    "    plt.plot(x, y, 'b.')\n",
    "    plt.xlabel(\"Value of the projection onto first component\")\n",
    "    plt.ylabel(\"Value of the projection onto second component\")\n",
    "    plt.title(title)\n",
    "    plt.show()\n"
   ]
  },
  {
   "cell_type": "code",
   "execution_count": 83,
   "metadata": {},
   "outputs": [
    {
     "data": {
      "text/plain": [
       "[<matplotlib.lines.Line2D at 0x1a0e1a2c90>]"
      ]
     },
     "execution_count": 83,
     "metadata": {},
     "output_type": "execute_result"
    },
    {
     "data": {
      "image/png": "[encoded data removed]",
      "text/plain": [
       "<matplotlib.figure.Figure at 0x1a0d328c50>"
      ]
     },
     "metadata": {},
     "output_type": "display_data"
    }
   ],
   "source": [
    "from sklearn.manifold import TSNE\n",
    "\n",
    "X_embedded = TSNE(n_components=2).fit_transform(M)\n",
    "x,y = [],[]\n",
    "for row in X_embedded:\n",
    "    \n",
    "    x.append(row[0])\n",
    "    y.append(row[1])"
   ]
  },
  {
   "cell_type": "code",
   "execution_count": 86,
   "metadata": {},
   "outputs": [
    {
     "data": {
      "text/plain": [
       "<matplotlib.collections.PathCollection at 0x1a0d23ed50>"
      ]
     },
     "execution_count": 86,
     "metadata": {},
     "output_type": "execute_result"
    },
    {
     "data": {
      "image/png": "[encoded data removed]",
      "text/plain": [
       "<matplotlib.figure.Figure at 0x1a0e40ab50>"
      ]
     },
     "metadata": {},
     "output_type": "display_data"
    }
   ],
   "source": [
    "plt.scatter(x, y)"
   ]
  },
  {
   "cell_type": "code",
   "execution_count": 58,
   "metadata": {},
   "outputs": [
    {
     "data": {
      "image/png": "[encoded data removed]",
      "text/plain": [
       "<matplotlib.figure.Figure at 0x1a0ddb3210>"
      ]
     },
     "metadata": {},
     "output_type": "display_data"
    }
   ],
   "source": [
    "fit_pca(M, \"PCA with 2 components on Movies\")"
   ]
  },
  {
   "cell_type": "code",
   "execution_count": 46,
   "metadata": {},
   "outputs": [
    {
     "data": {
      "text/plain": [
       "array([[ -7.54530498e-05,   5.88146288e-05,  -8.23677486e-05, ...,\n",
       "         -3.42541544e-06,   4.96175297e-07,   6.22972212e-15],\n",
       "       [ -9.73560367e-05,   9.65425862e-05,  -1.39068082e-04, ...,\n",
       "         -7.33847564e-06,   3.37960423e-04,   9.41505505e-14],\n",
       "       [ -7.64797347e-05,   6.71290160e-05,  -7.87810798e-05, ...,\n",
       "         -2.49434376e-05,   1.13274122e-05,  -1.30662724e-14],\n",
       "       ..., \n",
       "       [ -9.94539731e-05,   9.14663046e-05,  -1.31165928e-04, ...,\n",
       "          2.91471042e-05,   7.71817063e-06,  -5.92415327e-15],\n",
       "       [ -9.21584132e-05,   6.75381330e-05,  -1.10183885e-04, ...,\n",
       "          1.08778673e-05,   9.24233314e-06,   6.09627259e-15],\n",
       "       [ -1.02307956e-04,   1.04619125e-04,  -1.57167966e-04, ...,\n",
       "          9.44456577e-06,   5.45537852e-06,  -2.34877942e-15]])"
      ]
     },
     "execution_count": 46,
     "metadata": {},
     "output_type": "execute_result"
    }
   ],
   "source": [
    "T"
   ]
  },
  {
   "cell_type": "code",
   "execution_count": null,
   "metadata": {},
   "outputs": [],
   "source": []
  }
 ],
 "metadata": {
  "kernelspec": {
   "display_name": "Python 2",
   "language": "python",
   "name": "python2"
  },
  "language_info": {
   "codemirror_mode": {
    "name": "ipython",
    "version": 2
   },
   "file_extension": ".py",
   "mimetype": "text/x-python",
   "name": "python",
   "nbconvert_exporter": "python",
   "pygments_lexer": "ipython2",
   "version": "2.7.14"
  }
 },
 "nbformat": 4,
 "nbformat_minor": 2
}
